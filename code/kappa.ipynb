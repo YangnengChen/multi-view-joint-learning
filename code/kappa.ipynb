{
 "cells": [
  {
   "cell_type": "code",
   "execution_count": 3,
   "metadata": {},
   "outputs": [
    {
     "name": "stderr",
     "output_type": "stream",
     "text": [
      "/home/cyn/anaconda3/envs/cyn1/lib/python3.9/site-packages/tqdm/auto.py:21: TqdmWarning: IProgress not found. Please update jupyter and ipywidgets. See https://ipywidgets.readthedocs.io/en/stable/user_install.html\n",
      "  from .autonotebook import tqdm as notebook_tqdm\n"
     ]
    }
   ],
   "source": [
    "\n",
    "\n",
    "import os\n",
    "\n",
    "\n",
    "import random\n",
    "import numpy as np\n",
    "import torch\n",
    "import cv2\n",
    "import timm\n",
    "import pandas as pd\n",
    "import copy\n",
    "import matplotlib.pyplot as plt\n",
    "import torchvision.transforms as transform\n",
    "from sklearn import model_selection\n",
    "from torch.utils.data import Dataset\n",
    "import torch.nn as nn\n",
    "import torch.optim as optim\n",
    "\n",
    "from torch.optim.lr_scheduler import StepLR, CosineAnnealingWarmRestarts, CosineAnnealingLR\n",
    "from torch.utils.data import DataLoader\n",
    "import models.create_models as create\n",
    "from tqdm import tqdm\n",
    "\n",
    "from dataset import CustomDataset, MultiviewImgDataset, SingleimgDataset\n",
    "from models.FLoss import FocalLoss\n",
    "from sklearn.model_selection import train_test_split\n",
    "from ml_decoder import MLDecoder\n",
    "#cyn\n",
    "import argparse\n",
    "import datetime\n",
    "import json\n",
    "\n",
    "import time\n",
    "from pathlib import Path"
   ]
  },
  {
   "cell_type": "code",
   "execution_count": 4,
   "metadata": {},
   "outputs": [],
   "source": [
    "df_gt_1 = pd.read_excel('/data/cyn/code/MVCINN/MVCINN-code/医生验证结果（1）.xlsx')\n",
    "df_gt_2 = pd.read_excel('/data/cyn/code/MVCINN/MVCINN-code/医生验证结果（2）.xlsx')\n",
    "df_gt_3 = pd.read_excel('/data/cyn/code/MVCINN/MVCINN-code/医生验证结果（3）.xlsx')\n",
    "df_pred=pd.read_excel('/data/cyn/code/MVCINN/MVCINN-code/MVCINN_test_Nfnet_conv2d_SKnet_True_M_4_r8_L_32_is_weighted_joint_False_fuse_view_False_concat_False_ablation_fusion_False_using_decoder_True_decoder_embedding_3072_num_layers_decoder_8_best_acc_交叉验证.xlsx')\n",
    "df_gt_1 =df_gt_1.iloc[:250]\n",
    "df_gt_2 =df_gt_2.iloc[:250]\n",
    "df_gt_3 =df_gt_3.iloc[:250]\n",
    "df_pred=df_pred.iloc[:250]\n",
    "df_test=pd.read_csv('/data/cyn/data/MFIDDR/test_fourpic_label.csv')\n",
    "df_test=df_test.iloc[:250]"
   ]
  },
  {
   "cell_type": "code",
   "execution_count": 5,
   "metadata": {},
   "outputs": [
    {
     "data": {
      "text/plain": [
       "array([0, 1, 0, 0, 0, 0, 0, 0, 0, 0, 0, 0, 0, 0, 0, 0, 0, 0, 0, 0, 0, 0,\n",
       "       0, 0, 0, 0, 0, 0, 0, 0, 0, 0, 0, 0, 0, 0, 0, 0, 0, 0, 0, 0, 0, 0,\n",
       "       0, 1, 0, 0, 0, 0, 0, 0, 0, 0, 0, 1, 0, 0, 0, 0, 0, 0, 0, 0, 0, 0,\n",
       "       0, 0, 0, 0, 0, 0, 0, 0, 0, 0, 0, 0, 0, 0, 0, 0, 0, 0, 0, 0, 0, 0,\n",
       "       0, 0, 0, 0, 0, 0, 0, 0, 0, 0, 0, 0, 0, 1, 0, 0, 0, 0, 0, 0, 0, 0,\n",
       "       0, 0, 0, 0, 0, 0, 0, 0, 0, 0, 0, 1, 0, 1, 0, 0, 0, 0, 0, 0, 0, 0,\n",
       "       0, 0, 0, 0, 0, 0, 0, 0, 0, 0, 0, 1, 0, 1, 0, 1, 0, 0, 0, 1, 0, 0,\n",
       "       0, 0, 0, 0, 0, 0, 0, 1, 0, 0, 0, 0, 0, 0, 0, 0, 0, 0, 0, 0, 0, 0,\n",
       "       0, 0, 0, 0, 0, 0, 0, 1, 0, 0, 0, 1, 0, 0, 0, 0, 0, 0, 0, 0, 0, 0,\n",
       "       0, 0, 0, 0, 0, 1, 0, 0, 0, 0, 0, 0, 0, 0, 0, 0, 0, 0, 0, 0, 0, 0,\n",
       "       0, 0, 0, 0, 0, 1, 0, 0, 0, 0, 0, 0, 0, 0, 0, 0, 0, 0, 0, 0, 0, 0,\n",
       "       0, 0, 0, 0, 0, 1, 0, 0])"
      ]
     },
     "execution_count": 5,
     "metadata": {},
     "output_type": "execute_result"
    }
   ],
   "source": [
    "df_test.level.values"
   ]
  },
  {
   "cell_type": "code",
   "execution_count": 6,
   "metadata": {},
   "outputs": [
    {
     "data": {
      "text/plain": [
       "(array(['N,0', 'N,0', 'N,0', 'N,0', 'N,0', 'N,0', 'N,0', 'N,0', 'N,0',\n",
       "        'N,0', 'N,0', 'N,0', 'N,0', 'N,0', 'N,0', 'N,0', 'N,0', 'N,0',\n",
       "        'N,0', 'N,0', 'N,0', 'N,0', 'N,0', 'N,0', 'N,0', 'N,0', 'N,0',\n",
       "        'N,0', 'N,0', 'N,0', 'N,0', 'N,0', 'N,0', 'N,0', 'N,0', 'N,0',\n",
       "        'N,0', 'N,0', 'N,0', 'N,0', 'N,0', 'N,0', 'Ⅰ,1', 'N,0', 'N,0',\n",
       "        'N,0', 'N,0', 'N,0', 'N,0', 'N,0', 'N,0', 'N,0', 'N,0', 'N,0',\n",
       "        'N,0', 'Ⅰ,1', 'N,0', 'N,0', 'N,0', 'Ⅲ,2', 'N,0', 'N,0', 'N,0',\n",
       "        'N,0', 'N,0', 'N,0', 'N,0', 'N,0', 'N,0', 'N,0', 'N,0', 'N,0',\n",
       "        'N,0', 'N,0', 'N,0', 'N,0', 'N,0', 'N,0', 'N,0', 'N,0', 'N,0',\n",
       "        'N,0', 'N,0', 'N,0', 'N,0', 'N,0', 'N,0', 'N,0', 'N,0', 'N,0',\n",
       "        'N,0', 'N,0', 'N,0', 'N,0', 'Ⅰ,1', 'N,0', 'N,0', 'N,0', 'N,0',\n",
       "        'N,0', 'N,0', 'N,0', 'N,0', 'N,0', 'N,0', 'N,0', 'N,0', 'N,0',\n",
       "        'N,0', 'N,0', 'N,0', 'N,0', 'N,0', 'N,0', 'N,0', 'N,0', 'N,0',\n",
       "        'N,0', 'N,0', 'N,0', 'N,0', 'N,0', 'N,0', 'N,0', 'N,0', 'N,0',\n",
       "        'N,0', 'N,0', 'N,0', 'N,0', 'N,0', 'N,0', 'N,0', 'N,0', 'N,0',\n",
       "        'N,0', 'N,0', 'N,0', 'N,0', 'N,0', 'N,0', 'N,0', 'N,0', 'N,0',\n",
       "        'N,0', 'N,0', 'N,0', 'Ⅰ,1', 'N,0', 'N,0', 'N,0', 'N,0', 'N,0',\n",
       "        'N,0', 'N,0', 'N,0', 'N,0', 'N,0', 'N,0', 'N,0', 'N,0', 'Ⅰ,1',\n",
       "        'N,0', 'N,0', 'N,0', 'N,0', 'N,0', 'N,0', 'N,0', 'N,0', 'N,0',\n",
       "        'N,0', 'N,0', 'N,0', 'N,0', 'N,0', 'N,0', 'N,0', 'N,0', 'N,0',\n",
       "        'N,0', 'N,0', 'N,0', 'N,0', 'N,0', 'N,0', 'N,0', 'Ⅰ,1', 'N,0',\n",
       "        'N,0', 'N,0', 'N,0', 'N,0', 'N,0', 'N,0', 'N,0', 'N,0', 'N,0',\n",
       "        'N,0', 'N,0', 'N,0', 'N,0', 'N,0', 'Ⅰ,1', 'N,0', 'N,0', 'N,0',\n",
       "        'N,0', 'N,0', 'N,0', 'N,0', 'N,0', 'N,0', 'N,0', 'N,0', 'N,0',\n",
       "        'N,0', 'N,0', 'N,0', 'N,0', 'N,0', 'N,0', 'N,0', 'N,0', 'N,0',\n",
       "        'Ⅰ,1', 'N,0', 'N,0', 'N,0', 'N,0', 'N,0', 'N,0', 'N,0', 'N,0',\n",
       "        'N,0', 'N,0', 'N,0', 'N,0', 'N,0', 'N,0', 'N,0', 'N,0', 'N,0',\n",
       "        'N,0', 'N,0', 'N,0', 'N,0', 'Ⅰ,1', 'N,0', 'N,0'], dtype=object),\n",
       " array(['N,0', 'N,0', 'N,0', 'N,0', 'N,0', 'N,0', 'N,0', 'N,0', 'N,0',\n",
       "        'N,0', 'N,0', 'N,0', 'N,0', 'N,0', 'N,0', 'N,0', 'N,0', 'N,0',\n",
       "        'Ⅰ,1', 'N,0', 'N,0', 'N,0', 'N,0', 'N,0', 'N,0', 'N,0', 'N,0',\n",
       "        'N,0', 'N,0', 'N,0', 'N,0', 'N,0', 'N,0', 'N,0', 'N,0', 'N,0',\n",
       "        'N,0', 'N,0', 'N,0', 'N,0', 'N,0', 'N,0', 'Ⅰ,1', 'N,0', 'N,0',\n",
       "        'N,0', 'N,0', 'N,0', 'N,0', 'N,0', 'N,0', 'N,0', 'N,0', 'N,0',\n",
       "        'N,0', 'Ⅰ,1', 'N,0', 'N,0', 'N,0', 'Ⅲ,2', 'N,0', 'N,0', 'N,0',\n",
       "        'N,0', 'N,0', 'N,0', 'N,0', 'N,0', 'N,0', 'N,0', 'N,0', 'N,0',\n",
       "        'N,0', 'N,0', 'N,0', 'N,0', 'N,0', 'N,0', 'N,0', 'N,0', 'N,0',\n",
       "        'N,0', 'N,0', 'N,0', 'N,0', 'N,0', 'N,0', 'N,0', 'N,0', 'N,0',\n",
       "        'N,0', 'N,0', 'N,0', 'N,0', 'Ⅰ,1', 'N,0', 'N,0', 'N,0', 'Ⅰ,1',\n",
       "        'N,0', 'N,0', 'N,0', 'N,0', 'N,0', 'N,0', 'N,0', 'N,0', 'N,0',\n",
       "        'N,0', 'N,0', 'N,0', 'N,0', 'N,0', 'N,0', 'N,0', 'N,0', 'N,0',\n",
       "        'N,0', 'N,0', 'N,0', 'N,0', 'N,0', 'N,0', 'N,0', 'N,0', 'N,0',\n",
       "        'N,0', 'N,0', 'N,0', 'N,0', 'N,0', 'N,0', 'N,0', 'N,0', 'N,0',\n",
       "        'N,0', 'N,0', 'N,0', 'N,0', 'N,0', 'N,0', 'N,0', 'N,0', 'N,0',\n",
       "        'N,0', 'N,0', 'N,0', 'Ⅰ,1', 'N,0', 'N,0', 'N,0', 'N,0', 'N,0',\n",
       "        'N,0', 'N,0', 'N,0', 'N,0', 'N,0', 'N,0', 'N,0', 'N,0', 'Ⅰ,1',\n",
       "        'N,0', 'N,0', 'N,0', 'N,0', 'N,0', 'N,0', 'N,0', 'N,0', 'N,0',\n",
       "        'N,0', 'N,0', 'N,0', 'N,0', 'N,0', 'N,0', 'N,0', 'N,0', 'N,0',\n",
       "        'N,0', 'N,0', 'N,0', 'N,0', 'N,0', 'N,0', 'N,0', 'Ⅰ,1', 'N,0',\n",
       "        'N,0', 'N,0', 'N,0', 'N,0', 'N,0', 'N,0', 'N,0', 'N,0', 'N,0',\n",
       "        'N,0', 'N,0', 'N,0', 'N,0', 'N,0', 'Ⅰ,1', 'N,0', 'N,0', 'N,0',\n",
       "        'N,0', 'N,0', 'N,0', 'N,0', 'N,0', 'N,0', 'N,0', 'N,0', 'N,0',\n",
       "        'N,0', 'N,0', 'N,0', 'N,0', 'N,0', 'N,0', 'N,0', 'N,0', 'N,0',\n",
       "        'Ⅰ,1', 'N,0', 'N,0', 'N,0', 'N,0', 'N,0', 'N,0', 'N,0', 'N,0',\n",
       "        'N,0', 'N,0', 'N,0', 'N,0', 'N,0', 'N,0', 'N,0', 'N,0', 'N,0',\n",
       "        'N,0', 'N,0', 'N,0', 'N,0', 'Ⅰ,1', 'N,0', 'N,0'], dtype=object),\n",
       " array(['N,0', 'N,0', 'N,0', 'N,0', 'N,0', 'N,0', 'N,0', 'N,0', 'N,0',\n",
       "        'N,0', 'N,0', 'N,0', 'N,0', 'N,0', 'N,0', 'N,0', 'N,0', 'N,0',\n",
       "        'Ⅰ,1', 'N,0', 'N,0', 'N,0', 'N,0', 'N,0', 'N,0', 'N,0', 'N,0',\n",
       "        'N,0', 'N,0', 'N,0', 'N,0', 'N,0', 'N,0', 'N,0', 'N,0', 'N,0',\n",
       "        'N,0', 'N,0', 'N,0', 'N,0', 'N,0', 'N,0', 'N,0', 'N,0', 'N,0',\n",
       "        'N,0', 'N,0', 'N,0', 'N,0', 'N,0', 'N,0', 'N,0', 'N,0', 'N,0',\n",
       "        'N,0', 'Ⅰ,1', 'N,0', 'N,0', 'N,0', 'Ⅲ,2', 'N,0', 'N,0', 'N,0',\n",
       "        'N,0', 'N,0', 'N,0', 'N,0', 'N,0', 'N,0', 'N,0', 'N,0', 'N,0',\n",
       "        'N,0', 'N,0', 'N,0', 'N,0', 'N,0', 'N,0', 'N,0', 'N,0', 'N,0',\n",
       "        'N,0', 'N,0', 'N,0', 'N,0', 'N,0', 'N,0', 'N,0', 'N,0', 'N,0',\n",
       "        'N,0', 'N,0', 'N,0', 'N,0', 'Ⅰ,1', 'N,0', 'N,0', 'N,0', 'Ⅰ,1',\n",
       "        'N,0', 'N,0', 'N,0', 'N,0', 'N,0', 'N,0', 'N,0', 'N,0', 'N,0',\n",
       "        'N,0', 'N,0', 'N,0', 'N,0', 'N,0', 'N,0', 'N,0', 'N,0', 'N,0',\n",
       "        'N,0', 'N,0', 'N,0', 'N,0', 'N,0', 'N,0', 'Ⅰ,1', 'N,0', 'N,0',\n",
       "        'N,0', 'N,0', 'N,0', 'N,0', 'N,0', 'N,0', 'N,0', 'N,0', 'N,0',\n",
       "        'N,0', 'N,0', 'N,0', 'N,0', 'N,0', 'N,0', 'N,0', 'N,0', 'N,0',\n",
       "        'N,0', 'N,0', 'N,0', 'Ⅰ,1', 'N,0', 'N,0', 'N,0', 'N,0', 'N,0',\n",
       "        'N,0', 'N,0', 'N,0', 'N,0', 'N,0', 'N,0', 'N,0', 'N,0', 'N,0',\n",
       "        'N,0', 'N,0', 'N,0', 'N,0', 'N,0', 'N,0', 'N,0', 'N,0', 'N,0',\n",
       "        'N,0', 'N,0', 'N,0', 'N,0', 'N,0', 'N,0', 'N,0', 'N,0', 'N,0',\n",
       "        'N,0', 'N,0', 'N,0', 'N,0', 'N,0', 'N,0', 'N,0', 'Ⅰ,1', 'N,0',\n",
       "        'N,0', 'N,0', 'N,0', 'N,0', 'N,0', 'N,0', 'N,0', 'N,0', 'N,0',\n",
       "        'N,0', 'N,0', 'N,0', 'N,0', 'N,0', 'N,0', 'N,0', 'N,0', 'N,0',\n",
       "        'N,0', 'N,0', 'N,0', 'N,0', 'N,0', 'N,0', 'N,0', 'N,0', 'N,0',\n",
       "        'N,0', 'N,0', 'N,0', 'N,0', 'N,0', 'N,0', 'N,0', 'N,0', 'N,0',\n",
       "        'Ⅰ,1', 'N,0', 'N,0', 'N,0', 'N,0', 'N,0', 'N,0', 'N,0', 'N,0',\n",
       "        'N,0', 'N,0', 'N,0', 'N,0', 'N,0', 'N,0', 'N,0', 'N,0', 'N,0',\n",
       "        'N,0', 'N,0', 'N,0', 'N,0', 'Ⅰ,1', 'N,0', 'N,0'], dtype=object),\n",
       " array(['N,0', 'N,0', 'N,0', 'N,0', 'N,0', 'N,0', 'N,0', 'N,0', 'N,0',\n",
       "        'N,0', 'N,0', 'N,0', 'N,0', 'N,0', 'N,0', 'N,0', 'N,0', 'N,0',\n",
       "        'Ⅰ,1', 'N,0', 'N,0', 'N,0', 'N,0', 'N,0', 'N,0', 'N,0', 'N,0',\n",
       "        'N,0', 'N,0', 'N,0', 'N,0', 'N,0', 'N,0', 'N,0', 'N,0', 'N,0',\n",
       "        'N,0', 'N,0', 'Ⅰ,1', 'N,0', 'N,0', 'N,0', 'N,0', 'N,0', 'N,0',\n",
       "        'N,0', 'N,0', 'N,0', 'N,0', 'N,0', 'N,0', 'N,0', 'N,0', 'N,0',\n",
       "        'N,0', 'Ⅰ,1', 'N,0', 'N,0', 'N,0', 'Ⅰ,1', 'N,0', 'N,0', 'N,0',\n",
       "        'N,0', 'N,0', 'N,0', 'N,0', 'N,0', 'N,0', 'N,0', 'N,0', 'N,0',\n",
       "        'N,0', 'N,0', 'N,0', 'N,0', 'N,0', 'N,0', 'N,0', 'N,0', 'N,0',\n",
       "        'N,0', 'N,0', 'N,0', 'N,0', 'N,0', 'N,0', 'N,0', 'N,0', 'N,0',\n",
       "        'N,0', 'N,0', 'N,0', 'N,0', 'Ⅰ,1', 'N,0', 'N,0', 'N,0', 'N,0',\n",
       "        'N,0', 'N,0', 'N,0', 'N,0', 'N,0', 'N,0', 'N,0', 'N,0', 'N,0',\n",
       "        'N,0', 'N,0', 'N,0', 'N,0', 'N,0', 'N,0', 'N,0', 'N,0', 'N,0',\n",
       "        'N,0', 'N,0', 'N,0', 'N,0', 'N,0', 'N,0', 'N,0', 'N,0', 'N,0',\n",
       "        'N,0', 'N,0', 'N,0', 'N,0', 'N,0', 'N,0', 'N,0', 'N,0', 'N,0',\n",
       "        'N,0', 'N,0', 'N,0', 'N,0', 'N,0', 'N,0', 'N,0', 'N,0', 'N,0',\n",
       "        'N,0', 'Ⅰ,1', 'N,0', 'N,0', 'N,0', 'N,0', 'N,0', 'N,0', 'N,0',\n",
       "        'N,0', 'N,0', 'N,0', 'N,0', 'N,0', 'N,0', 'N,0', 'N,0', 'N,0',\n",
       "        'N,0', 'N,0', 'N,0', 'N,0', 'N,0', 'N,0', 'N,0', 'N,0', 'N,0',\n",
       "        'N,0', 'N,0', 'N,0', 'N,0', 'N,0', 'N,0', 'N,0', 'N,0', 'N,0',\n",
       "        'N,0', 'N,0', 'N,0', 'Ⅰ,1', 'N,0', 'N,0', 'N,0', 'N,0', 'N,0',\n",
       "        'N,0', 'N,0', 'N,0', 'N,0', 'N,0', 'N,0', 'N,0', 'N,0', 'N,0',\n",
       "        'N,0', 'N,0', 'N,0', 'N,0', 'N,0', 'Ⅰ,1', 'N,0', 'N,0', 'N,0',\n",
       "        'N,0', 'N,0', 'N,0', 'N,0', 'N,0', 'N,0', 'N,0', 'N,0', 'N,0',\n",
       "        'N,0', 'N,0', 'N,0', 'N,0', 'N,0', 'N,0', 'N,0', 'N,0', 'Ⅰ,1',\n",
       "        'N,0', 'N,0', 'N,0', 'N,0', 'N,0', 'N,0', 'N,0', 'N,0', 'N,0',\n",
       "        'N,0', 'N,0', 'N,0', 'N,0', 'N,0', 'N,0', 'N,0', 'N,0', 'N,0',\n",
       "        'N,0', 'N,0', 'N,0', 'N,0', 'N,0', 'N,0', 'N,0'], dtype=object))"
      ]
     },
     "execution_count": 6,
     "metadata": {},
     "output_type": "execute_result"
    }
   ],
   "source": [
    "df_gt_1['诊断结果（0-4）'].values,df_gt_1['诊断结果（0-4）.1'].values,df_gt_1['诊断结果（0-4）.2'].values,df_gt_1['诊断结果（0-4）.3'].values"
   ]
  },
  {
   "cell_type": "code",
   "execution_count": 7,
   "metadata": {},
   "outputs": [
    {
     "data": {
      "text/plain": [
       "array([1, 1, 0, 0, 0, 0, 0, 0, 0, 0, 0, 0, 0, 0, 0, 0, 0, 0, 0, 0, 0, 0,\n",
       "       0, 0, 0, 0, 0, 0, 0, 0, 0, 0, 0, 0, 0, 0, 0, 0, 0, 0, 0, 0, 1, 0,\n",
       "       0, 1, 0, 0, 0, 0, 0, 0, 0, 0, 0, 1, 0, 0, 0, 0, 0, 0, 0, 1, 0, 0,\n",
       "       0, 0, 0, 0, 0, 0, 0, 0, 0, 0, 0, 0, 0, 0, 0, 0, 0, 0, 0, 0, 0, 0,\n",
       "       0, 0, 0, 0, 0, 0, 0, 0, 0, 0, 1, 0, 0, 1, 0, 0, 0, 0, 0, 0, 0, 0,\n",
       "       0, 0, 0, 0, 0, 0, 0, 0, 0, 0, 0, 1, 0, 1, 0, 0, 0, 0, 0, 0, 0, 0,\n",
       "       0, 0, 0, 0, 0, 0, 0, 0, 0, 0, 0, 0, 0, 1, 0, 1, 0, 0, 0, 0, 0, 0,\n",
       "       0, 0, 0, 0, 0, 0, 0, 1, 0, 0, 0, 0, 0, 0, 0, 0, 0, 0, 0, 0, 0, 0,\n",
       "       0, 0, 0, 0, 0, 0, 0, 1, 0, 0, 0, 1, 0, 0, 1, 0, 0, 0, 0, 0, 0, 0,\n",
       "       0, 0, 0, 0, 0, 1, 1, 0, 0, 0, 0, 0, 0, 0, 0, 0, 0, 0, 0, 0, 0, 0,\n",
       "       0, 0, 0, 0, 1, 1, 0, 0, 0, 0, 0, 0, 0, 0, 0, 0, 0, 0, 0, 0, 0, 0,\n",
       "       0, 0, 0, 0, 0, 1, 0, 0])"
      ]
     },
     "execution_count": 7,
     "metadata": {},
     "output_type": "execute_result"
    }
   ],
   "source": [
    "df_pred['分级结果'].values"
   ]
  },
  {
   "cell_type": "code",
   "execution_count": 8,
   "metadata": {},
   "outputs": [
    {
     "data": {
      "text/plain": [
       "(诊断结果（0-4）\n",
       " 0.0    243\n",
       " 1.0      7\n",
       " Name: count, dtype: int64,\n",
       " 诊断结果（0-4）.1\n",
       " 0.0    244\n",
       " 1.0      6\n",
       " Name: count, dtype: int64,\n",
       " 诊断结果（0-4）.2\n",
       " 0.0    244\n",
       " 1.0      6\n",
       " Name: count, dtype: int64,\n",
       " 诊断结果（0-4）.3\n",
       " 0.0    245\n",
       " 1.0      5\n",
       " Name: count, dtype: int64,\n",
       " 分级结果\n",
       " 0    229\n",
       " 1     21\n",
       " Name: count, dtype: int64)"
      ]
     },
     "execution_count": 8,
     "metadata": {},
     "output_type": "execute_result"
    }
   ],
   "source": [
    "df_gt_3['诊断结果（0-4）'].value_counts(),df_gt_3['诊断结果（0-4）.1'].value_counts(),df_gt_3['诊断结果（0-4）.2'].value_counts(),df_gt_3['诊断结果（0-4）.3'].value_counts(),df_pred['分级结果'].value_counts()"
   ]
  },
  {
   "cell_type": "code",
   "execution_count": 9,
   "metadata": {},
   "outputs": [],
   "source": [
    "pred=np.append(df_pred['分级结果'].values,df_pred['分级结果'].values)\n",
    "pred=np.append(pred,pred)"
   ]
  },
  {
   "cell_type": "code",
   "execution_count": 10,
   "metadata": {},
   "outputs": [],
   "source": [
    "gt_1=np.array([])\n",
    "for item in df_gt_1['诊断结果（0-4）'].values:\n",
    "    if item=='N,0':\n",
    "        gt_1 = np.append(gt_1, 0)\n",
    "    elif item=='Ⅰ,1':\n",
    "        gt_1 = np.append(gt_1, 1)\n",
    "    elif item=='Ⅲ,2':\n",
    "        gt_1 = np.append(gt_1, 2)\n",
    "for item in df_gt_1['诊断结果（0-4）.1'].values:\n",
    "    if item=='N,0':\n",
    "        gt_1 = np.append(gt_1, 0)\n",
    "    elif item=='Ⅰ,1':\n",
    "        gt_1 = np.append(gt_1, 1)\n",
    "    elif item=='Ⅲ,2':\n",
    "        gt_1 = np.append(gt_1, 2)      \n",
    "for item in df_gt_1['诊断结果（0-4）.2'].values:\n",
    "    if item=='N,0':\n",
    "        gt_1 = np.append(gt_1, 0)\n",
    "    elif item=='Ⅰ,1':\n",
    "        gt_1 = np.append(gt_1, 1)\n",
    "    elif item=='Ⅲ,2':\n",
    "        gt_1 = np.append(gt_1, 2)      \n",
    "for item in df_gt_1['诊断结果（0-4）.3'].values:\n",
    "    if item=='N,0':\n",
    "        gt_1 = np.append(gt_1, 0)\n",
    "    elif item=='Ⅰ,1':\n",
    "        gt_1 = np.append(gt_1, 1)\n",
    "    elif item=='Ⅲ,2':\n",
    "        gt_1 = np.append(gt_1, 2)    \n",
    "        \n"
   ]
  },
  {
   "cell_type": "code",
   "execution_count": 11,
   "metadata": {},
   "outputs": [],
   "source": [
    "gt_2=np.array([])\n",
    "for item in df_gt_2['诊断结果（0-4）'].values:\n",
    "    if item==0.0:\n",
    "        gt_2 = np.append(gt_2, 0)\n",
    "    elif item==1.0:\n",
    "        gt_2 = np.append(gt_2, 1)\n",
    "    elif item==2.0:\n",
    "        gt_2 = np.append(gt_2, 2)\n",
    "for item in df_gt_2['诊断结果（0-4）.1'].values:\n",
    "    if item==0.0:\n",
    "        gt_2 = np.append(gt_2, 0)\n",
    "    elif item==1.0:\n",
    "        gt_2 = np.append(gt_2, 1)\n",
    "    elif item==2.0:\n",
    "        gt_2 = np.append(gt_2, 2)      \n",
    "for item in df_gt_2['诊断结果（0-4）.2'].values:\n",
    "    if item==0.0:\n",
    "        gt_2 = np.append(gt_2, 0)\n",
    "    elif item==1.0:\n",
    "        gt_2 = np.append(gt_2, 1)\n",
    "    elif item==2.0:\n",
    "        gt_2 = np.append(gt_2, 2)      \n",
    "for item in df_gt_2['诊断结果（0-4）.3'].values:\n",
    "    if item==0.0:\n",
    "        gt_2 = np.append(gt_2, 0)\n",
    "    elif item==1.0:\n",
    "        gt_2 = np.append(gt_2, 1)\n",
    "    elif item==2.0:\n",
    "        gt_2 = np.append(gt_2, 2)    "
   ]
  },
  {
   "cell_type": "code",
   "execution_count": 12,
   "metadata": {},
   "outputs": [],
   "source": [
    "gt_3=np.array([])\n",
    "for item in df_gt_3['诊断结果（0-4）'].values:\n",
    "    if item==0.0:\n",
    "        gt_3 = np.append(gt_3, 0)\n",
    "    elif item==1.0:\n",
    "        gt_3 = np.append(gt_3, 1)\n",
    "    elif item==2.0:\n",
    "        gt_3 = np.append(gt_3, 2)\n",
    "for item in df_gt_3['诊断结果（0-4）.1'].values:\n",
    "    if item==0.0:\n",
    "        gt_3 = np.append(gt_3, 0)\n",
    "    elif item==1.0:\n",
    "        gt_3 = np.append(gt_3, 1)\n",
    "    elif item==2.0:\n",
    "        gt_3 = np.append(gt_3, 2)      \n",
    "for item in df_gt_3['诊断结果（0-4）.2'].values:\n",
    "    if item==0.0:\n",
    "        gt_3 = np.append(gt_3, 0)\n",
    "    elif item==1.0:\n",
    "        gt_3 = np.append(gt_3, 1)\n",
    "    elif item==2.0:\n",
    "        gt_3 = np.append(gt_3, 2)      \n",
    "for item in df_gt_3['诊断结果（0-4）.3'].values:\n",
    "    if item==0.0:\n",
    "        gt_3 = np.append(gt_3, 0)\n",
    "    elif item==1.0:\n",
    "        gt_3 = np.append(gt_3, 1)\n",
    "    elif item==2.0:\n",
    "        gt_3 = np.append(gt_3, 2)    "
   ]
  },
  {
   "cell_type": "code",
   "execution_count": 13,
   "metadata": {},
   "outputs": [],
   "source": [
    "from sklearn.metrics import cohen_kappa_score\n",
    "from sklearn.metrics import accuracy_score"
   ]
  },
  {
   "cell_type": "code",
   "execution_count": 14,
   "metadata": {},
   "outputs": [],
   "source": [
    "kappa_1 = cohen_kappa_score(gt_1, pred)\n",
    "kappa_2 = cohen_kappa_score(gt_2, pred)\n",
    "kappa_3 = cohen_kappa_score(gt_3, pred)"
   ]
  },
  {
   "cell_type": "code",
   "execution_count": 15,
   "metadata": {},
   "outputs": [
    {
     "data": {
      "text/plain": [
       "(0.4339495116758474, 0.6074326092645904, 0.42289935364727604)"
      ]
     },
     "execution_count": 15,
     "metadata": {},
     "output_type": "execute_result"
    }
   ],
   "source": [
    "kappa_1,kappa_2,kappa_3"
   ]
  },
  {
   "cell_type": "code",
   "execution_count": 16,
   "metadata": {},
   "outputs": [],
   "source": [
    "accuracy_1 = accuracy_score(gt_1, pred)\n",
    "accuracy_2 = accuracy_score(gt_2, pred)\n",
    "accuracy_3 = accuracy_score(gt_3, pred)"
   ]
  },
  {
   "cell_type": "code",
   "execution_count": 17,
   "metadata": {},
   "outputs": [
    {
     "data": {
      "text/plain": [
       "(0.933, 0.952, 0.94)"
      ]
     },
     "execution_count": 17,
     "metadata": {},
     "output_type": "execute_result"
    }
   ],
   "source": [
    "accuracy_1,accuracy_2,accuracy_3"
   ]
  },
  {
   "cell_type": "code",
   "execution_count": 24,
   "metadata": {},
   "outputs": [
    {
     "name": "stdout",
     "output_type": "stream",
     "text": [
      "PearsonRResult(statistic=0.47850401670550696, pvalue=2.3474414796156362e-58)\n",
      "PearsonRResult(statistic=0.7141278717770038, pvalue=9.233671458087035e-157)\n",
      "PearsonRResult(statistic=0.5645874236209011, pvalue=2.9289551302567306e-85)\n"
     ]
    }
   ],
   "source": [
    "from scipy.stats import pearsonr\n",
    "print(pearsonr(gt_1, gt_2))\n",
    "print(pearsonr(gt_2, gt_3))\n",
    "print(pearsonr(gt_1, gt_3))"
   ]
  },
  {
   "cell_type": "code",
   "execution_count": 23,
   "metadata": {},
   "outputs": [
    {
     "data": {
      "text/plain": [
       "(0.47850401670550696, 2.3474414796156362e-58)"
      ]
     },
     "execution_count": 23,
     "metadata": {},
     "output_type": "execute_result"
    }
   ],
   "source": [
    "correlation_coefficient,p_value"
   ]
  },
  {
   "cell_type": "code",
   "execution_count": 19,
   "metadata": {},
   "outputs": [],
   "source": [
    "accuracy_4=accuracy_score(df_test.level.values,pred[:250])"
   ]
  },
  {
   "cell_type": "code",
   "execution_count": 20,
   "metadata": {},
   "outputs": [
    {
     "data": {
      "text/plain": [
       "0.964"
      ]
     },
     "execution_count": 20,
     "metadata": {},
     "output_type": "execute_result"
    }
   ],
   "source": [
    "accuracy_4"
   ]
  }
 ],
 "metadata": {
  "kernelspec": {
   "display_name": "cyn1",
   "language": "python",
   "name": "python3"
  },
  "language_info": {
   "codemirror_mode": {
    "name": "ipython",
    "version": 3
   },
   "file_extension": ".py",
   "mimetype": "text/x-python",
   "name": "python",
   "nbconvert_exporter": "python",
   "pygments_lexer": "ipython3",
   "version": "3.9.18"
  }
 },
 "nbformat": 4,
 "nbformat_minor": 2
}
